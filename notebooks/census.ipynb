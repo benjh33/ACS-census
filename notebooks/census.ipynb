{
 "cells": [
  {
   "cell_type": "code",
   "execution_count": 1,
   "metadata": {
    "collapsed": true
   },
   "outputs": [],
   "source": [
    "import sys\n",
    "import os\n",
    "import re\n",
    "import json\n",
    "import gzip\n",
    "from io import BytesIO\n",
    "from random import sample\n",
    "\n",
    "from pyspark.accumulators import AccumulatorParam\n",
    "from pyspark.sql import Row\n",
    "from pyspark.sql.types import *\n",
    "from pyspark.storagelevel import StorageLevel\n",
    "from pyspark.sql.functions import input_file_name\n"
   ]
  },
  {
   "cell_type": "code",
   "execution_count": 2,
   "metadata": {},
   "outputs": [
    {
     "data": {
      "text/plain": [
       "3109172"
      ]
     },
     "execution_count": 2,
     "metadata": {},
     "output_type": "execute_result"
    }
   ],
   "source": [
    "bucket_name = 's3a://big-data-sets-bjh/'\n",
    "person = sqlCtx.read.parquet(bucket_name + 'dataworld/person/state=*/year=14/')\n",
    "ontology = sqlCtx.read.parquet(bucket_name + 'dataworld/ontology')\n",
    "ontology.createOrReplaceTempView('ontology')\n",
    "person.createOrReplaceTempView('person')\n",
    "person.count()\n",
    "top_20 = [p.asDict() for p in person.take(20)]\n",
    "person_cols = list(top_20[0].keys())\n",
    "ont = [o.asDict() for o in ontology.collect()]\n",
    "person_ont = [o for o in ont if o['name'] in person_cols]\n"
   ]
  },
  {
   "cell_type": "code",
   "execution_count": 62,
   "metadata": {},
   "outputs": [],
   "source": [
    "# person_cols"
   ]
  },
  {
   "cell_type": "code",
   "execution_count": 60,
   "metadata": {},
   "outputs": [],
   "source": [
    "from pyspark.sql.types import StringType\n",
    "from pyspark.sql.functions import udf\n",
    " \n",
    "# Define the UDF\n",
    "def replace(data, string, replacement):\n",
    "    return data.replace(string, replacement)\n",
    "\n",
    "udf_replace = udf(replace, StringType())\n",
    "sqlCtx.registerFunction('replace', replace, StringType())\n",
    "q = '''\n",
    "SELECT p.acs_hasPrivateHealthInsurance, o.state AS state from person p JOIN \n",
    "(SELECT data.`rdfs:label` as state, name from ontology where name like \"acs_State%\") o\n",
    "ON p.acs_hasState = replace(o.name, ':', '_') \n",
    "group by acs_hasPrivateHealthInsurance, state\n",
    "'''\n",
    "\n",
    "# by_state = sqlCtx.sql(state_q)\n",
    "res = sqlCtx.sql(q)\n"
   ]
  },
  {
   "cell_type": "code",
   "execution_count": 61,
   "metadata": {},
   "outputs": [
    {
     "data": {
      "text/plain": [
       "0"
      ]
     },
     "execution_count": 61,
     "metadata": {},
     "output_type": "execute_result"
    }
   ],
   "source": []
  }
 ],
 "metadata": {
  "kernelspec": {
   "display_name": "Python 3",
   "language": "python",
   "name": "python3"
  },
  "language_info": {
   "codemirror_mode": {
    "name": "ipython",
    "version": 3
   },
   "file_extension": ".py",
   "mimetype": "text/x-python",
   "name": "python",
   "nbconvert_exporter": "python",
   "pygments_lexer": "ipython3",
   "version": "3.6.1"
  }
 },
 "nbformat": 4,
 "nbformat_minor": 2
}
